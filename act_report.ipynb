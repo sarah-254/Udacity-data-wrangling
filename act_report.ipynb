{
 "cells": [
  {
   "cell_type": "markdown",
   "metadata": {},
   "source": [
    "# Reporting: Insights and Visualizations"
   ]
  },
  {
   "cell_type": "markdown",
   "metadata": {},
   "source": [
    "Some of the insights of the analysis of the Weratedogs datasets are discussed below."
   ]
  },
  {
   "cell_type": "markdown",
   "metadata": {},
   "source": [
    "<img src=\"rating_percent1.png\" width=\"500\" height=\"300\">"
   ]
  },
  {
   "cell_type": "markdown",
   "metadata": {},
   "source": [
    "- The first insight was the distribution of dogs rating. From the bar graph above we can conclude that rating values 12, 11, 10 and 13 are the most given - with 12 having the highest percentage (26%)."
   ]
  },
  {
   "cell_type": "markdown",
   "metadata": {},
   "source": [
    "<img src=\"golden_retriever.jpg\" width=\"400\" height=\"200\">"
   ]
  },
  {
   "cell_type": "markdown",
   "metadata": {},
   "source": [
    "- The **golden_retriever** - whose image is shown above is the most retweeted and most favorite dog breed having *788148* total retweets and  *2194581* total like count.\n",
    "\n",
    "- **Labrador_retriever** is the second most retweeted breed with *551512* tweet count and **Chihuahua** at third position with *345090* retweet count.\n",
    "\n",
    "- **Labrador_retriever** is also the second favorite breed with *1430845* favorite count and number three is **Pembroke** with *1165756*.\n",
    "\n",
    "- **groenendael** and **Japanese_spaniel** are the least retweeted and least favorite breeds. The **groenendael** has *413* retweets and *1896* likes while the **Japanese_spaniel** has *471* retweets and *1362* likes.\n",
    "\n",
    "- **doggo** is the most retweeted dog stage with *421372* and **pupper** is second with *400517* retweets.\n",
    "\n",
    "- **Cooper**, **Charlie** and **Oliver** are the most popular dog names."
   ]
  },
  {
   "cell_type": "markdown",
   "metadata": {},
   "source": [
    "The insights can be used by Weratedogs twitter account to understand the popularity of different dog breeds, dog names, dog stages and to improve tweet contents."
   ]
  }
 ],
 "metadata": {
  "kernelspec": {
   "display_name": "Python 3",
   "language": "python",
   "name": "python3"
  },
  "language_info": {
   "codemirror_mode": {
    "name": "ipython",
    "version": 3
   },
   "file_extension": ".py",
   "mimetype": "text/x-python",
   "name": "python",
   "nbconvert_exporter": "python",
   "pygments_lexer": "ipython3",
   "version": "3.6.3"
  }
 },
 "nbformat": 4,
 "nbformat_minor": 2
}
